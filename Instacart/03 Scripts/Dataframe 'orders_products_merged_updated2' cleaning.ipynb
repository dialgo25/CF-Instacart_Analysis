{
 "cells": [
  {
   "cell_type": "markdown",
   "id": "9d12f1a2",
   "metadata": {},
   "source": [
    "# 01. Import Libraries"
   ]
  },
  {
   "cell_type": "code",
   "execution_count": 1,
   "id": "4c156582",
   "metadata": {},
   "outputs": [],
   "source": [
    "import pandas as pd\n",
    "import numpy as np\n",
    "import os"
   ]
  },
  {
   "cell_type": "markdown",
   "id": "16e14194",
   "metadata": {},
   "source": [
    "# 02. Import Dataframe orders_products_merged_updated2"
   ]
  },
  {
   "cell_type": "code",
   "execution_count": 2,
   "id": "c0b5377a",
   "metadata": {},
   "outputs": [],
   "source": [
    "# Create path\n",
    "\n",
    "path = r'/Users/dianaalatriste/Documents/Instacart'"
   ]
  },
  {
   "cell_type": "code",
   "execution_count": 3,
   "id": "a5eaec4e",
   "metadata": {},
   "outputs": [],
   "source": [
    "# Dataframe was created after exercise 4.8, so flag columns have been added. Size is currently 5.53 GB\n",
    "\n",
    "ords_prods_upd = pd.read_pickle(os.path.join(path, '02 Data', 'Prepared Data', 'order_products_merged_updated2.pkl'))"
   ]
  },
  {
   "cell_type": "code",
   "execution_count": 4,
   "id": "fd55c87c",
   "metadata": {},
   "outputs": [
    {
     "data": {
      "text/html": [
       "<div>\n",
       "<style scoped>\n",
       "    .dataframe tbody tr th:only-of-type {\n",
       "        vertical-align: middle;\n",
       "    }\n",
       "\n",
       "    .dataframe tbody tr th {\n",
       "        vertical-align: top;\n",
       "    }\n",
       "\n",
       "    .dataframe thead th {\n",
       "        text-align: right;\n",
       "    }\n",
       "</style>\n",
       "<table border=\"1\" class=\"dataframe\">\n",
       "  <thead>\n",
       "    <tr style=\"text-align: right;\">\n",
       "      <th></th>\n",
       "      <th>order_id</th>\n",
       "      <th>user_id</th>\n",
       "      <th>eval_set</th>\n",
       "      <th>order_number</th>\n",
       "      <th>orders_day_of_week</th>\n",
       "      <th>order_hour_of_day</th>\n",
       "      <th>last_purchase</th>\n",
       "      <th>product_id</th>\n",
       "      <th>add_to_cart_order</th>\n",
       "      <th>reordered</th>\n",
       "      <th>...</th>\n",
       "      <th>price_range_loc</th>\n",
       "      <th>busiest_day</th>\n",
       "      <th>busiest_days</th>\n",
       "      <th>busiest_period_of_day</th>\n",
       "      <th>max_order</th>\n",
       "      <th>loyalty_flag</th>\n",
       "      <th>average_expenses</th>\n",
       "      <th>spending_flag</th>\n",
       "      <th>user_behaviour</th>\n",
       "      <th>order_frequency_flag</th>\n",
       "    </tr>\n",
       "  </thead>\n",
       "  <tbody>\n",
       "    <tr>\n",
       "      <th>0</th>\n",
       "      <td>2539329</td>\n",
       "      <td>1</td>\n",
       "      <td>prior</td>\n",
       "      <td>1</td>\n",
       "      <td>2</td>\n",
       "      <td>8</td>\n",
       "      <td>NaN</td>\n",
       "      <td>196</td>\n",
       "      <td>1</td>\n",
       "      <td>0</td>\n",
       "      <td>...</td>\n",
       "      <td>Mid-range product</td>\n",
       "      <td>Regularly busy</td>\n",
       "      <td>Regularly busy</td>\n",
       "      <td>Average orders</td>\n",
       "      <td>10</td>\n",
       "      <td>New customer</td>\n",
       "      <td>6.367797</td>\n",
       "      <td>Low spender</td>\n",
       "      <td>20.5</td>\n",
       "      <td>Non-frequent customer</td>\n",
       "    </tr>\n",
       "    <tr>\n",
       "      <th>1</th>\n",
       "      <td>2398795</td>\n",
       "      <td>1</td>\n",
       "      <td>prior</td>\n",
       "      <td>2</td>\n",
       "      <td>3</td>\n",
       "      <td>7</td>\n",
       "      <td>15.0</td>\n",
       "      <td>196</td>\n",
       "      <td>1</td>\n",
       "      <td>1</td>\n",
       "      <td>...</td>\n",
       "      <td>Mid-range product</td>\n",
       "      <td>Regularly busy</td>\n",
       "      <td>Least busy days</td>\n",
       "      <td>Average orders</td>\n",
       "      <td>10</td>\n",
       "      <td>New customer</td>\n",
       "      <td>6.367797</td>\n",
       "      <td>Low spender</td>\n",
       "      <td>20.5</td>\n",
       "      <td>Non-frequent customer</td>\n",
       "    </tr>\n",
       "    <tr>\n",
       "      <th>2</th>\n",
       "      <td>473747</td>\n",
       "      <td>1</td>\n",
       "      <td>prior</td>\n",
       "      <td>3</td>\n",
       "      <td>3</td>\n",
       "      <td>12</td>\n",
       "      <td>21.0</td>\n",
       "      <td>196</td>\n",
       "      <td>1</td>\n",
       "      <td>1</td>\n",
       "      <td>...</td>\n",
       "      <td>Mid-range product</td>\n",
       "      <td>Regularly busy</td>\n",
       "      <td>Least busy days</td>\n",
       "      <td>Most orders</td>\n",
       "      <td>10</td>\n",
       "      <td>New customer</td>\n",
       "      <td>6.367797</td>\n",
       "      <td>Low spender</td>\n",
       "      <td>20.5</td>\n",
       "      <td>Non-frequent customer</td>\n",
       "    </tr>\n",
       "    <tr>\n",
       "      <th>3</th>\n",
       "      <td>2254736</td>\n",
       "      <td>1</td>\n",
       "      <td>prior</td>\n",
       "      <td>4</td>\n",
       "      <td>4</td>\n",
       "      <td>7</td>\n",
       "      <td>29.0</td>\n",
       "      <td>196</td>\n",
       "      <td>1</td>\n",
       "      <td>1</td>\n",
       "      <td>...</td>\n",
       "      <td>Mid-range product</td>\n",
       "      <td>Least busy</td>\n",
       "      <td>Least busy days</td>\n",
       "      <td>Average orders</td>\n",
       "      <td>10</td>\n",
       "      <td>New customer</td>\n",
       "      <td>6.367797</td>\n",
       "      <td>Low spender</td>\n",
       "      <td>20.5</td>\n",
       "      <td>Non-frequent customer</td>\n",
       "    </tr>\n",
       "    <tr>\n",
       "      <th>4</th>\n",
       "      <td>431534</td>\n",
       "      <td>1</td>\n",
       "      <td>prior</td>\n",
       "      <td>5</td>\n",
       "      <td>4</td>\n",
       "      <td>15</td>\n",
       "      <td>28.0</td>\n",
       "      <td>196</td>\n",
       "      <td>1</td>\n",
       "      <td>1</td>\n",
       "      <td>...</td>\n",
       "      <td>Mid-range product</td>\n",
       "      <td>Least busy</td>\n",
       "      <td>Least busy days</td>\n",
       "      <td>Most orders</td>\n",
       "      <td>10</td>\n",
       "      <td>New customer</td>\n",
       "      <td>6.367797</td>\n",
       "      <td>Low spender</td>\n",
       "      <td>20.5</td>\n",
       "      <td>Non-frequent customer</td>\n",
       "    </tr>\n",
       "  </tbody>\n",
       "</table>\n",
       "<p>5 rows × 25 columns</p>\n",
       "</div>"
      ],
      "text/plain": [
       "   order_id  user_id eval_set  order_number  orders_day_of_week  \\\n",
       "0   2539329        1    prior             1                   2   \n",
       "1   2398795        1    prior             2                   3   \n",
       "2    473747        1    prior             3                   3   \n",
       "3   2254736        1    prior             4                   4   \n",
       "4    431534        1    prior             5                   4   \n",
       "\n",
       "   order_hour_of_day  last_purchase  product_id  add_to_cart_order  reordered  \\\n",
       "0                  8            NaN         196                  1          0   \n",
       "1                  7           15.0         196                  1          1   \n",
       "2                 12           21.0         196                  1          1   \n",
       "3                  7           29.0         196                  1          1   \n",
       "4                 15           28.0         196                  1          1   \n",
       "\n",
       "   ...    price_range_loc     busiest_day     busiest_days  \\\n",
       "0  ...  Mid-range product  Regularly busy   Regularly busy   \n",
       "1  ...  Mid-range product  Regularly busy  Least busy days   \n",
       "2  ...  Mid-range product  Regularly busy  Least busy days   \n",
       "3  ...  Mid-range product      Least busy  Least busy days   \n",
       "4  ...  Mid-range product      Least busy  Least busy days   \n",
       "\n",
       "   busiest_period_of_day max_order  loyalty_flag average_expenses  \\\n",
       "0         Average orders        10  New customer         6.367797   \n",
       "1         Average orders        10  New customer         6.367797   \n",
       "2            Most orders        10  New customer         6.367797   \n",
       "3         Average orders        10  New customer         6.367797   \n",
       "4            Most orders        10  New customer         6.367797   \n",
       "\n",
       "  spending_flag user_behaviour   order_frequency_flag  \n",
       "0   Low spender           20.5  Non-frequent customer  \n",
       "1   Low spender           20.5  Non-frequent customer  \n",
       "2   Low spender           20.5  Non-frequent customer  \n",
       "3   Low spender           20.5  Non-frequent customer  \n",
       "4   Low spender           20.5  Non-frequent customer  \n",
       "\n",
       "[5 rows x 25 columns]"
      ]
     },
     "execution_count": 4,
     "metadata": {},
     "output_type": "execute_result"
    }
   ],
   "source": [
    "# Check output\n",
    "\n",
    "ords_prods_upd.head()"
   ]
  },
  {
   "cell_type": "code",
   "execution_count": 10,
   "id": "10037300",
   "metadata": {},
   "outputs": [
    {
     "data": {
      "text/plain": [
       "(32404859, 22)"
      ]
     },
     "execution_count": 10,
     "metadata": {},
     "output_type": "execute_result"
    }
   ],
   "source": [
    "# Check shape\n",
    "\n",
    "ords_prods_upd.shape"
   ]
  },
  {
   "cell_type": "code",
   "execution_count": 5,
   "id": "8ac57787",
   "metadata": {},
   "outputs": [
    {
     "data": {
      "text/plain": [
       "Index(['order_id', 'user_id', 'eval_set', 'order_number', 'orders_day_of_week',\n",
       "       'order_hour_of_day', 'last_purchase', 'product_id', 'add_to_cart_order',\n",
       "       'reordered', 'product_name', 'aisle_id', 'department_id', 'prices',\n",
       "       '_merge', 'price_range_loc', 'busiest_day', 'busiest_days',\n",
       "       'busiest_period_of_day', 'max_order', 'loyalty_flag',\n",
       "       'average_expenses', 'spending_flag', 'user_behaviour',\n",
       "       'order_frequency_flag'],\n",
       "      dtype='object')"
      ]
     },
     "execution_count": 5,
     "metadata": {},
     "output_type": "execute_result"
    }
   ],
   "source": [
    "# Check columns\n",
    "\n",
    "ords_prods_upd.columns"
   ]
  },
  {
   "cell_type": "markdown",
   "id": "3957aaf8",
   "metadata": {},
   "source": [
    "# 03. Start dataframe cleaning"
   ]
  },
  {
   "cell_type": "code",
   "execution_count": 6,
   "id": "8ce6267d",
   "metadata": {},
   "outputs": [],
   "source": [
    "# Drop not necessary columns\n",
    "\n",
    "ords_prods_upd = ords_prods_upd.drop(columns = ['eval_set', 'aisle_id', '_merge'])"
   ]
  },
  {
   "cell_type": "code",
   "execution_count": 8,
   "id": "85bff60b",
   "metadata": {},
   "outputs": [
    {
     "data": {
      "text/plain": [
       "(32404859, 22)"
      ]
     },
     "execution_count": 8,
     "metadata": {},
     "output_type": "execute_result"
    }
   ],
   "source": [
    "# Check shape\n",
    "\n",
    "ords_prods_upd.shape"
   ]
  },
  {
   "cell_type": "code",
   "execution_count": 7,
   "id": "069b2acb",
   "metadata": {},
   "outputs": [
    {
     "data": {
      "text/html": [
       "<div>\n",
       "<style scoped>\n",
       "    .dataframe tbody tr th:only-of-type {\n",
       "        vertical-align: middle;\n",
       "    }\n",
       "\n",
       "    .dataframe tbody tr th {\n",
       "        vertical-align: top;\n",
       "    }\n",
       "\n",
       "    .dataframe thead th {\n",
       "        text-align: right;\n",
       "    }\n",
       "</style>\n",
       "<table border=\"1\" class=\"dataframe\">\n",
       "  <thead>\n",
       "    <tr style=\"text-align: right;\">\n",
       "      <th></th>\n",
       "      <th>order_id</th>\n",
       "      <th>user_id</th>\n",
       "      <th>order_number</th>\n",
       "      <th>orders_day_of_week</th>\n",
       "      <th>order_hour_of_day</th>\n",
       "      <th>last_purchase</th>\n",
       "      <th>product_id</th>\n",
       "      <th>add_to_cart_order</th>\n",
       "      <th>reordered</th>\n",
       "      <th>product_name</th>\n",
       "      <th>...</th>\n",
       "      <th>price_range_loc</th>\n",
       "      <th>busiest_day</th>\n",
       "      <th>busiest_days</th>\n",
       "      <th>busiest_period_of_day</th>\n",
       "      <th>max_order</th>\n",
       "      <th>loyalty_flag</th>\n",
       "      <th>average_expenses</th>\n",
       "      <th>spending_flag</th>\n",
       "      <th>user_behaviour</th>\n",
       "      <th>order_frequency_flag</th>\n",
       "    </tr>\n",
       "  </thead>\n",
       "  <tbody>\n",
       "    <tr>\n",
       "      <th>0</th>\n",
       "      <td>2539329</td>\n",
       "      <td>1</td>\n",
       "      <td>1</td>\n",
       "      <td>2</td>\n",
       "      <td>8</td>\n",
       "      <td>NaN</td>\n",
       "      <td>196</td>\n",
       "      <td>1</td>\n",
       "      <td>0</td>\n",
       "      <td>Soda</td>\n",
       "      <td>...</td>\n",
       "      <td>Mid-range product</td>\n",
       "      <td>Regularly busy</td>\n",
       "      <td>Regularly busy</td>\n",
       "      <td>Average orders</td>\n",
       "      <td>10</td>\n",
       "      <td>New customer</td>\n",
       "      <td>6.367797</td>\n",
       "      <td>Low spender</td>\n",
       "      <td>20.5</td>\n",
       "      <td>Non-frequent customer</td>\n",
       "    </tr>\n",
       "    <tr>\n",
       "      <th>1</th>\n",
       "      <td>2398795</td>\n",
       "      <td>1</td>\n",
       "      <td>2</td>\n",
       "      <td>3</td>\n",
       "      <td>7</td>\n",
       "      <td>15.0</td>\n",
       "      <td>196</td>\n",
       "      <td>1</td>\n",
       "      <td>1</td>\n",
       "      <td>Soda</td>\n",
       "      <td>...</td>\n",
       "      <td>Mid-range product</td>\n",
       "      <td>Regularly busy</td>\n",
       "      <td>Least busy days</td>\n",
       "      <td>Average orders</td>\n",
       "      <td>10</td>\n",
       "      <td>New customer</td>\n",
       "      <td>6.367797</td>\n",
       "      <td>Low spender</td>\n",
       "      <td>20.5</td>\n",
       "      <td>Non-frequent customer</td>\n",
       "    </tr>\n",
       "    <tr>\n",
       "      <th>2</th>\n",
       "      <td>473747</td>\n",
       "      <td>1</td>\n",
       "      <td>3</td>\n",
       "      <td>3</td>\n",
       "      <td>12</td>\n",
       "      <td>21.0</td>\n",
       "      <td>196</td>\n",
       "      <td>1</td>\n",
       "      <td>1</td>\n",
       "      <td>Soda</td>\n",
       "      <td>...</td>\n",
       "      <td>Mid-range product</td>\n",
       "      <td>Regularly busy</td>\n",
       "      <td>Least busy days</td>\n",
       "      <td>Most orders</td>\n",
       "      <td>10</td>\n",
       "      <td>New customer</td>\n",
       "      <td>6.367797</td>\n",
       "      <td>Low spender</td>\n",
       "      <td>20.5</td>\n",
       "      <td>Non-frequent customer</td>\n",
       "    </tr>\n",
       "    <tr>\n",
       "      <th>3</th>\n",
       "      <td>2254736</td>\n",
       "      <td>1</td>\n",
       "      <td>4</td>\n",
       "      <td>4</td>\n",
       "      <td>7</td>\n",
       "      <td>29.0</td>\n",
       "      <td>196</td>\n",
       "      <td>1</td>\n",
       "      <td>1</td>\n",
       "      <td>Soda</td>\n",
       "      <td>...</td>\n",
       "      <td>Mid-range product</td>\n",
       "      <td>Least busy</td>\n",
       "      <td>Least busy days</td>\n",
       "      <td>Average orders</td>\n",
       "      <td>10</td>\n",
       "      <td>New customer</td>\n",
       "      <td>6.367797</td>\n",
       "      <td>Low spender</td>\n",
       "      <td>20.5</td>\n",
       "      <td>Non-frequent customer</td>\n",
       "    </tr>\n",
       "    <tr>\n",
       "      <th>4</th>\n",
       "      <td>431534</td>\n",
       "      <td>1</td>\n",
       "      <td>5</td>\n",
       "      <td>4</td>\n",
       "      <td>15</td>\n",
       "      <td>28.0</td>\n",
       "      <td>196</td>\n",
       "      <td>1</td>\n",
       "      <td>1</td>\n",
       "      <td>Soda</td>\n",
       "      <td>...</td>\n",
       "      <td>Mid-range product</td>\n",
       "      <td>Least busy</td>\n",
       "      <td>Least busy days</td>\n",
       "      <td>Most orders</td>\n",
       "      <td>10</td>\n",
       "      <td>New customer</td>\n",
       "      <td>6.367797</td>\n",
       "      <td>Low spender</td>\n",
       "      <td>20.5</td>\n",
       "      <td>Non-frequent customer</td>\n",
       "    </tr>\n",
       "  </tbody>\n",
       "</table>\n",
       "<p>5 rows × 22 columns</p>\n",
       "</div>"
      ],
      "text/plain": [
       "   order_id  user_id  order_number  orders_day_of_week  order_hour_of_day  \\\n",
       "0   2539329        1             1                   2                  8   \n",
       "1   2398795        1             2                   3                  7   \n",
       "2    473747        1             3                   3                 12   \n",
       "3   2254736        1             4                   4                  7   \n",
       "4    431534        1             5                   4                 15   \n",
       "\n",
       "   last_purchase  product_id  add_to_cart_order  reordered product_name  ...  \\\n",
       "0            NaN         196                  1          0         Soda  ...   \n",
       "1           15.0         196                  1          1         Soda  ...   \n",
       "2           21.0         196                  1          1         Soda  ...   \n",
       "3           29.0         196                  1          1         Soda  ...   \n",
       "4           28.0         196                  1          1         Soda  ...   \n",
       "\n",
       "     price_range_loc     busiest_day     busiest_days busiest_period_of_day  \\\n",
       "0  Mid-range product  Regularly busy   Regularly busy        Average orders   \n",
       "1  Mid-range product  Regularly busy  Least busy days        Average orders   \n",
       "2  Mid-range product  Regularly busy  Least busy days           Most orders   \n",
       "3  Mid-range product      Least busy  Least busy days        Average orders   \n",
       "4  Mid-range product      Least busy  Least busy days           Most orders   \n",
       "\n",
       "  max_order  loyalty_flag  average_expenses spending_flag  user_behaviour  \\\n",
       "0        10  New customer          6.367797   Low spender            20.5   \n",
       "1        10  New customer          6.367797   Low spender            20.5   \n",
       "2        10  New customer          6.367797   Low spender            20.5   \n",
       "3        10  New customer          6.367797   Low spender            20.5   \n",
       "4        10  New customer          6.367797   Low spender            20.5   \n",
       "\n",
       "    order_frequency_flag  \n",
       "0  Non-frequent customer  \n",
       "1  Non-frequent customer  \n",
       "2  Non-frequent customer  \n",
       "3  Non-frequent customer  \n",
       "4  Non-frequent customer  \n",
       "\n",
       "[5 rows x 22 columns]"
      ]
     },
     "execution_count": 7,
     "metadata": {},
     "output_type": "execute_result"
    }
   ],
   "source": [
    "# Check output\n",
    "\n",
    "ords_prods_upd.head()"
   ]
  },
  {
   "cell_type": "code",
   "execution_count": 11,
   "id": "c180abcf",
   "metadata": {},
   "outputs": [
    {
     "data": {
      "text/plain": [
       "Index(['order_id', 'user_id', 'order_number', 'orders_day_of_week',\n",
       "       'order_hour_of_day', 'last_purchase', 'product_id', 'add_to_cart_order',\n",
       "       'reordered', 'product_name', 'department_id', 'prices',\n",
       "       'price_range_loc', 'busiest_day', 'busiest_days',\n",
       "       'busiest_period_of_day', 'max_order', 'loyalty_flag',\n",
       "       'average_expenses', 'spending_flag', 'user_behaviour',\n",
       "       'order_frequency_flag'],\n",
       "      dtype='object')"
      ]
     },
     "execution_count": 11,
     "metadata": {},
     "output_type": "execute_result"
    }
   ],
   "source": [
    "# check columns\n",
    "\n",
    "ords_prods_upd.columns"
   ]
  },
  {
   "cell_type": "markdown",
   "id": "72a3678f",
   "metadata": {},
   "source": [
    "# 04. Change datatypes to reduce dataframe size"
   ]
  },
  {
   "cell_type": "code",
   "execution_count": 14,
   "id": "b49f90ec",
   "metadata": {},
   "outputs": [
    {
     "data": {
      "text/plain": [
       "order_id                   int64\n",
       "user_id                   object\n",
       "order_number               int64\n",
       "orders_day_of_week         int64\n",
       "order_hour_of_day          int64\n",
       "last_purchase            float64\n",
       "product_id                 int64\n",
       "add_to_cart_order          int64\n",
       "reordered                  int64\n",
       "product_name              object\n",
       "department_id              int64\n",
       "prices                   float64\n",
       "price_range_loc           object\n",
       "busiest_day               object\n",
       "busiest_days              object\n",
       "busiest_period_of_day     object\n",
       "max_order                  int64\n",
       "loyalty_flag              object\n",
       "average_expenses         float64\n",
       "spending_flag             object\n",
       "user_behaviour           float64\n",
       "order_frequency_flag      object\n",
       "dtype: object"
      ]
     },
     "execution_count": 14,
     "metadata": {},
     "output_type": "execute_result"
    }
   ],
   "source": [
    "# Check datatypes\n",
    "\n",
    "ords_prods_upd.dtypes"
   ]
  },
  {
   "cell_type": "code",
   "execution_count": 13,
   "id": "1afb8408",
   "metadata": {},
   "outputs": [],
   "source": [
    "ords_prods_upd['user_id'] = ords_prods_upd['user_id'].astype('str')"
   ]
  },
  {
   "cell_type": "code",
   "execution_count": 15,
   "id": "8190f244",
   "metadata": {},
   "outputs": [],
   "source": [
    "ords_prods_upd['order_number'] = ords_prods_upd['order_number'].astype('int8')"
   ]
  },
  {
   "cell_type": "code",
   "execution_count": 16,
   "id": "f6842f78",
   "metadata": {},
   "outputs": [],
   "source": [
    "ords_prods_upd['orders_day_of_week'] = ords_prods_upd['orders_day_of_week'].astype('int8')"
   ]
  },
  {
   "cell_type": "code",
   "execution_count": 17,
   "id": "b0ccc822",
   "metadata": {},
   "outputs": [],
   "source": [
    "ords_prods_upd['order_hour_of_day'] = ords_prods_upd['order_hour_of_day'].astype('int8')"
   ]
  },
  {
   "cell_type": "code",
   "execution_count": 18,
   "id": "03f34957",
   "metadata": {},
   "outputs": [],
   "source": [
    "ords_prods_upd['product_id'] = ords_prods_upd['product_id'].astype('int32')"
   ]
  },
  {
   "cell_type": "code",
   "execution_count": 19,
   "id": "97fcb768",
   "metadata": {},
   "outputs": [],
   "source": [
    "ords_prods_upd['reordered'] = ords_prods_upd['reordered'].astype('int8')"
   ]
  },
  {
   "cell_type": "code",
   "execution_count": 20,
   "id": "22c3d503",
   "metadata": {},
   "outputs": [],
   "source": [
    "ords_prods_upd['department_id'] = ords_prods_upd['department_id'].astype('int8')"
   ]
  },
  {
   "cell_type": "code",
   "execution_count": 21,
   "id": "3c103349",
   "metadata": {},
   "outputs": [],
   "source": [
    "ords_prods_upd['max_order'] = ords_prods_upd['max_order'].astype('int8')"
   ]
  },
  {
   "cell_type": "code",
   "execution_count": 22,
   "id": "43994bc4",
   "metadata": {},
   "outputs": [],
   "source": [
    "ords_prods_upd['last_purchase'] = ords_prods_upd['last_purchase'].astype('float16')"
   ]
  },
  {
   "cell_type": "code",
   "execution_count": 23,
   "id": "3cf2460e",
   "metadata": {},
   "outputs": [],
   "source": [
    "ords_prods_upd['prices'] = ords_prods_upd['prices'].astype('float32')"
   ]
  },
  {
   "cell_type": "code",
   "execution_count": 24,
   "id": "d6cc5c92",
   "metadata": {},
   "outputs": [],
   "source": [
    "ords_prods_upd['user_behaviour'] = ords_prods_upd['user_behaviour'].astype('float16')"
   ]
  },
  {
   "cell_type": "markdown",
   "id": "cf10e1f9",
   "metadata": {},
   "source": [
    "# 05. Export dataframe"
   ]
  },
  {
   "cell_type": "code",
   "execution_count": 25,
   "id": "b9de5482",
   "metadata": {},
   "outputs": [],
   "source": [
    "# Export dataframe as orders_products_merged_updated3\n",
    "\n",
    "ords_prods_upd.to_pickle(os.path.join(path, '02 Data','Prepared Data', 'orders_products_updated3.pkl'))"
   ]
  },
  {
   "cell_type": "markdown",
   "id": "85dfc47e",
   "metadata": {},
   "source": [
    "### Although final file was exported as 'orders_products_updated3', I will save it in my computer as 'orders_products_merged_updated2_cleaned'"
   ]
  },
  {
   "cell_type": "markdown",
   "id": "d5e51bf9",
   "metadata": {},
   "source": [
    "## Final size was reduced to 3.18 Gb"
   ]
  },
  {
   "cell_type": "code",
   "execution_count": 26,
   "id": "7345f959",
   "metadata": {},
   "outputs": [
    {
     "name": "stdout",
     "output_type": "stream",
     "text": [
      "End of cleaning\n"
     ]
    }
   ],
   "source": [
    "print('End of cleaning')"
   ]
  }
 ],
 "metadata": {
  "kernelspec": {
   "display_name": "Python 3 (ipykernel)",
   "language": "python",
   "name": "python3"
  },
  "language_info": {
   "codemirror_mode": {
    "name": "ipython",
    "version": 3
   },
   "file_extension": ".py",
   "mimetype": "text/x-python",
   "name": "python",
   "nbconvert_exporter": "python",
   "pygments_lexer": "ipython3",
   "version": "3.10.9"
  }
 },
 "nbformat": 4,
 "nbformat_minor": 5
}
