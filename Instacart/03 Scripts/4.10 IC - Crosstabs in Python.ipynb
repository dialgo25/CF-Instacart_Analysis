{
 "cells": [
  {
   "cell_type": "markdown",
   "id": "679fbab9",
   "metadata": {},
   "source": [
    "# 01. Import Libraries"
   ]
  },
  {
   "cell_type": "code",
   "execution_count": 1,
   "id": "48fe7c65",
   "metadata": {},
   "outputs": [],
   "source": [
    "import pandas as pd\n",
    "import numpy as np\n",
    "import os"
   ]
  },
  {
   "cell_type": "markdown",
   "id": "2021652a",
   "metadata": {},
   "source": [
    "# 02. Import dataframe"
   ]
  },
  {
   "cell_type": "code",
   "execution_count": 2,
   "id": "419d9c40",
   "metadata": {},
   "outputs": [],
   "source": [
    "# Create path\n",
    "\n",
    "path = r'/Users/dianaalatriste/Documents/Instacart'"
   ]
  },
  {
   "cell_type": "code",
   "execution_count": 3,
   "id": "9e8697e4",
   "metadata": {},
   "outputs": [
    {
     "data": {
      "text/plain": [
       "'/Users/dianaalatriste/Documents/Instacart'"
      ]
     },
     "execution_count": 3,
     "metadata": {},
     "output_type": "execute_result"
    }
   ],
   "source": [
    "# Confirm path creation\n",
    "\n",
    "path"
   ]
  },
  {
   "cell_type": "code",
   "execution_count": 4,
   "id": "ef897606",
   "metadata": {},
   "outputs": [],
   "source": [
    "# Import dataframe \n",
    "\n",
    "df = pd.read_pickle(os.path.join(path, '02 Data', 'Prepared Data', 'orders_products_customers_merged.pkl'))"
   ]
  },
  {
   "cell_type": "code",
   "execution_count": 5,
   "id": "c90e5a01",
   "metadata": {},
   "outputs": [
    {
     "data": {
      "text/plain": [
       "(32404859, 31)"
      ]
     },
     "execution_count": 5,
     "metadata": {},
     "output_type": "execute_result"
    }
   ],
   "source": [
    "# Check output\n",
    "\n",
    "df.shape"
   ]
  },
  {
   "cell_type": "markdown",
   "id": "59d928cc",
   "metadata": {},
   "source": [
    "# 03. Create crosstab of columns: 'last_purchase' and 'order_number'"
   ]
  },
  {
   "cell_type": "markdown",
   "id": "5069068e",
   "metadata": {},
   "source": [
    "### Crosstabs are common tools for conducting data check in Python. They are similar to pivot tables on Excel. "
   ]
  },
  {
   "cell_type": "code",
   "execution_count": 6,
   "id": "b0720c2b",
   "metadata": {},
   "outputs": [],
   "source": [
    "# Create object crosstab\n",
    "\n",
    "crosstab = pd.crosstab(df['last_purchase'], df['order_number'], dropna = False)"
   ]
  },
  {
   "cell_type": "code",
   "execution_count": 7,
   "id": "d595f83e",
   "metadata": {},
   "outputs": [],
   "source": [
    "# Copy object to clipboard to analyze on Excel\n",
    "\n",
    "crosstab.to_clipboard()"
   ]
  },
  {
   "cell_type": "markdown",
   "id": "9f9250ae",
   "metadata": {},
   "source": [
    "### Crosstab was then pasted on Excel and further analyzed"
   ]
  },
  {
   "cell_type": "code",
   "execution_count": 8,
   "id": "ba752b9f",
   "metadata": {},
   "outputs": [
    {
     "name": "stdout",
     "output_type": "stream",
     "text": [
      "End of script\n"
     ]
    }
   ],
   "source": [
    "print ('End of script')"
   ]
  }
 ],
 "metadata": {
  "kernelspec": {
   "display_name": "Python 3 (ipykernel)",
   "language": "python",
   "name": "python3"
  },
  "language_info": {
   "codemirror_mode": {
    "name": "ipython",
    "version": 3
   },
   "file_extension": ".py",
   "mimetype": "text/x-python",
   "name": "python",
   "nbconvert_exporter": "python",
   "pygments_lexer": "ipython3",
   "version": "3.10.9"
  }
 },
 "nbformat": 4,
 "nbformat_minor": 5
}
